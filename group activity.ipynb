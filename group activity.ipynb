{
 "cells": [
  {
   "cell_type": "code",
   "execution_count": 5,
   "id": "ef20da35",
   "metadata": {},
   "outputs": [
    {
     "name": "stdout",
     "output_type": "stream",
     "text": [
      "a + b = 8\n",
      "a-b=  -2\n",
      "a*b = 15\n",
      "a + b = 6\n",
      "a-b = zero\n",
      "a*b = 9\n"
     ]
    }
   ],
   "source": [
    "def some_function(a,b):\n",
    "    total = a+b\n",
    "    sub = a-b\n",
    "    multi = a*b\n",
    "    \n",
    "    if total==0:\n",
    "        print(\"a+b = zero\")\n",
    "    else:\n",
    "        print(\"a + b =\",total)\n",
    "        \n",
    "    if sub ==0:\n",
    "        print(\"a-b = zero\")\n",
    "    else:\n",
    "        print(\"a-b= \",sub)\n",
    "        \n",
    "    if multi==0:\n",
    "        print(\"a*b=zero\")\n",
    "    else:\n",
    "        print(\"a*b =\", multi)\n",
    "        \n",
    "        \n",
    "        \n",
    "        \n",
    "some_function(3,5)\n",
    "        \n",
    "some_function(3,3)\n",
    "   "
   ]
  },
  {
   "cell_type": "code",
   "execution_count": 1,
   "id": "80eceb43",
   "metadata": {},
   "outputs": [
    {
     "ename": "NameError",
     "evalue": "name 'some_function' is not defined",
     "output_type": "error",
     "traceback": [
      "\u001b[1;31m---------------------------------------------------------------------------\u001b[0m",
      "\u001b[1;31mNameError\u001b[0m                                 Traceback (most recent call last)",
      "\u001b[1;32m~\\AppData\\Local\\Temp/ipykernel_22256/1613272699.py\u001b[0m in \u001b[0;36m<module>\u001b[1;34m\u001b[0m\n\u001b[1;32m----> 1\u001b[1;33m \u001b[0msome_function\u001b[0m\u001b[1;33m(\u001b[0m\u001b[1;36m3\u001b[0m\u001b[1;33m,\u001b[0m\u001b[1;36m5\u001b[0m\u001b[1;33m)\u001b[0m\u001b[1;33m\u001b[0m\u001b[1;33m\u001b[0m\u001b[0m\n\u001b[0m",
      "\u001b[1;31mNameError\u001b[0m: name 'some_function' is not defined"
     ]
    }
   ],
   "source": []
  },
  {
   "cell_type": "code",
   "execution_count": null,
   "id": "ea81c137",
   "metadata": {},
   "outputs": [],
   "source": []
  }
 ],
 "metadata": {
  "kernelspec": {
   "display_name": "Python 3 (ipykernel)",
   "language": "python",
   "name": "python3"
  },
  "language_info": {
   "codemirror_mode": {
    "name": "ipython",
    "version": 3
   },
   "file_extension": ".py",
   "mimetype": "text/x-python",
   "name": "python",
   "nbconvert_exporter": "python",
   "pygments_lexer": "ipython3",
   "version": "3.8.5"
  }
 },
 "nbformat": 4,
 "nbformat_minor": 5
}
